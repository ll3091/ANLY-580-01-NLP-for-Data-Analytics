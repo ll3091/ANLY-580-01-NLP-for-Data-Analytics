{
 "cells": [
  {
   "cell_type": "markdown",
   "metadata": {},
   "source": [
    "# Vector Space Models with GenSim"
   ]
  },
  {
   "cell_type": "code",
   "execution_count": 1,
   "metadata": {},
   "outputs": [],
   "source": [
    "from gensim.models import KeyedVectors\n",
    "vecfile = './GoogleNews-vectors-negative300.bin/GoogleNews-vectors-negative300.bin'\n",
    "vecs = KeyedVectors.load_word2vec_format(vecfile, binary=True)"
   ]
  },
  {
   "cell_type": "markdown",
   "metadata": {},
   "source": [
    "What is the dimensionality of these word embeddings? Provide an integer answer."
   ]
  },
  {
   "cell_type": "code",
   "execution_count": 2,
   "metadata": {},
   "outputs": [
    {
     "data": {
      "text/plain": [
       "(300,)"
      ]
     },
     "execution_count": 2,
     "metadata": {},
     "output_type": "execute_result"
    }
   ],
   "source": [
    "vecs.get_vector('vector').shape"
   ]
  },
  {
   "cell_type": "markdown",
   "metadata": {},
   "source": [
    "300"
   ]
  },
  {
   "cell_type": "markdown",
   "metadata": {},
   "source": [
    "What are the top-5 most similar words to `picnic` (not including `picnic` itself)?\n",
    "Write your answer space-separated strings, i.e. \"word1 word2 word3 word4 word5\"."
   ]
  },
  {
   "cell_type": "code",
   "execution_count": 3,
   "metadata": {},
   "outputs": [],
   "source": [
    "simwords = vecs.most_similar(positive=['picnic'], topn=5)"
   ]
  },
  {
   "cell_type": "code",
   "execution_count": 4,
   "metadata": {},
   "outputs": [
    {
     "data": {
      "text/plain": [
       "'picnics picnic_lunch Picnic potluck_picnic picnic_supper'"
      ]
     },
     "execution_count": 4,
     "metadata": {},
     "output_type": "execute_result"
    }
   ],
   "source": [
    "' '.join([w for w, s in simwords])"
   ]
  },
  {
   "cell_type": "markdown",
   "metadata": {},
   "source": [
    "According to the word embeddings, which of these words is not like the others?\n",
    "['tissue', 'papyrus', 'manila', 'newsprint', 'parchment', 'gazette']\n",
    "Use the function `gensim.models.KeyedVectors.wv.doesnt_match`\n",
    "Provide a single string as the answer."
   ]
  },
  {
   "cell_type": "code",
   "execution_count": 5,
   "metadata": {},
   "outputs": [
    {
     "data": {
      "text/plain": [
       "'tissue'"
      ]
     },
     "execution_count": 5,
     "metadata": {},
     "output_type": "execute_result"
    }
   ],
   "source": [
    "vecs.doesnt_match(['tissue', 'papyrus', 'manila', 'newsprint', 'parchment', 'gazette'])"
   ]
  },
  {
   "cell_type": "markdown",
   "metadata": {},
   "source": [
    "Solve the following analogy: \"leg\" is to \"jump\" as X is to \"throw\".\n",
    "Use the function `gensim.models.KeyedVectors.wv.most_similar` with `positive` and `negative` arguments.\n",
    "Provide a single string as the answer."
   ]
  },
  {
   "cell_type": "code",
   "execution_count": 6,
   "metadata": {},
   "outputs": [
    {
     "data": {
      "text/plain": [
       "[('forearm', 0.4829464852809906),\n",
       " ('shin', 0.47376173734664917),\n",
       " ('elbow', 0.4679689109325409),\n",
       " ('metacarpal_bone', 0.46781474351882935),\n",
       " ('metacarpal_bones', 0.4660581648349762),\n",
       " ('ankle', 0.4643442630767822),\n",
       " ('shoulder', 0.46183356642723083),\n",
       " ('thigh', 0.453936904668808),\n",
       " ('knee', 0.4455707371234894),\n",
       " ('ulna_bone', 0.44234907627105713)]"
      ]
     },
     "execution_count": 6,
     "metadata": {},
     "output_type": "execute_result"
    }
   ],
   "source": [
    "vecs.most_similar(positive=[\"leg\",\"throw\"], negative=[\"jump\"])"
   ]
  },
  {
   "cell_type": "markdown",
   "metadata": {},
   "source": [
    "'forearm'"
   ]
  }
 ],
 "metadata": {
  "kernelspec": {
   "display_name": "Python 3",
   "language": "python",
   "name": "python3"
  },
  "language_info": {
   "codemirror_mode": {
    "name": "ipython",
    "version": 3
   },
   "file_extension": ".py",
   "mimetype": "text/x-python",
   "name": "python",
   "nbconvert_exporter": "python",
   "pygments_lexer": "ipython3",
   "version": "3.6.1"
  }
 },
 "nbformat": 4,
 "nbformat_minor": 2
}
