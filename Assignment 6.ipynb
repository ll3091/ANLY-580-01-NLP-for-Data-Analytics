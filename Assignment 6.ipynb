{
 "cells": [
  {
   "cell_type": "markdown",
   "metadata": {},
   "source": [
    "# Transfer Learning using DeepMoji"
   ]
  },
  {
   "cell_type": "code",
   "execution_count": 1,
   "metadata": {
    "colab": {
     "base_uri": "https://localhost:8080/",
     "height": 34
    },
    "colab_type": "code",
    "id": "TcAle1LZviZ2",
    "outputId": "45f2686e-21c1-466e-8612-2e2d63fab223"
   },
   "outputs": [
    {
     "name": "stdout",
     "output_type": "stream",
     "text": [
      "sample_data\n"
     ]
    }
   ],
   "source": [
    "!ls"
   ]
  },
  {
   "cell_type": "code",
   "execution_count": 2,
   "metadata": {
    "colab": {
     "base_uri": "https://localhost:8080/",
     "height": 119
    },
    "colab_type": "code",
    "id": "5hMllX4WxNIb",
    "outputId": "44385c61-abed-4fd6-bf16-0db1f80981e9"
   },
   "outputs": [
    {
     "name": "stdout",
     "output_type": "stream",
     "text": [
      "Cloning into 'DeepMoji'...\n",
      "remote: Enumerating objects: 281, done.\u001b[K\n",
      "remote: Total 281 (delta 0), reused 0 (delta 0), pack-reused 281\u001b[K\n",
      "Receiving objects: 100% (281/281), 110.54 MiB | 29.73 MiB/s, done.\n",
      "Resolving deltas: 100% (142/142), done.\n",
      "Checking out files: 100% (66/66), done.\n"
     ]
    }
   ],
   "source": [
    "!git clone https://github.com/bfelbo/DeepMoji.git"
   ]
  },
  {
   "cell_type": "code",
   "execution_count": 3,
   "metadata": {
    "colab": {
     "base_uri": "https://localhost:8080/",
     "height": 34
    },
    "colab_type": "code",
    "id": "08UfnGT3vkrH",
    "outputId": "abc5c82f-f15e-4404-c61e-890660d81678"
   },
   "outputs": [
    {
     "name": "stdout",
     "output_type": "stream",
     "text": [
      "Python 2.7.15rc1\n"
     ]
    }
   ],
   "source": [
    "!python --version"
   ]
  },
  {
   "cell_type": "code",
   "execution_count": 4,
   "metadata": {
    "colab": {
     "base_uri": "https://localhost:8080/",
     "height": 34
    },
    "colab_type": "code",
    "id": "JMxs-v0Fvphi",
    "outputId": "fa10cbc8-ceee-42fb-98e3-0383af15d53f"
   },
   "outputs": [
    {
     "name": "stdout",
     "output_type": "stream",
     "text": [
      "/content/DeepMoji\n"
     ]
    }
   ],
   "source": [
    "%cd DeepMoji"
   ]
  },
  {
   "cell_type": "code",
   "execution_count": 5,
   "metadata": {
    "colab": {
     "base_uri": "https://localhost:8080/",
     "height": 51
    },
    "colab_type": "code",
    "id": "A-mh0NpPxXAi",
    "outputId": "b9693ad8-ca95-4a9d-801f-4ab23fd0d930"
   },
   "outputs": [
    {
     "name": "stdout",
     "output_type": "stream",
     "text": [
      "data\t  emoji_overview.png  examples\tmodel\t   scripts   tests\n",
      "deepmoji  emoji_unicode.csv   LICENSE\tREADME.md  setup.py\n"
     ]
    }
   ],
   "source": [
    "!ls"
   ]
  },
  {
   "cell_type": "code",
   "execution_count": 6,
   "metadata": {
    "colab": {
     "base_uri": "https://localhost:8080/",
     "height": 683
    },
    "colab_type": "code",
    "id": "u9upEE2_v2hC",
    "outputId": "9a47cff2-0d60-4978-cd1f-fed1106b9ef1"
   },
   "outputs": [
    {
     "name": "stdout",
     "output_type": "stream",
     "text": [
      "Obtaining file:///content/DeepMoji\n",
      "Collecting emoji==0.4.5 (from deepmoji==1.0)\n",
      "  Downloading https://files.pythonhosted.org/packages/28/b5/d16d0d84a9c2243c52222d96fd083cf4ec526fd5150b831964643d7702ec/emoji-0.4.5-py2-none-any.whl\n",
      "Collecting h5py==2.7.0 (from deepmoji==1.0)\n",
      "\u001b[?25l  Downloading https://files.pythonhosted.org/packages/07/22/992b1eaa9a33caa40c0fc700bbd5db60da0335c3b581fe1fc72296942736/h5py-2.7.0-cp27-cp27mu-manylinux1_x86_64.whl (4.3MB)\n",
      "\u001b[K    100% |████████████████████████████████| 4.4MB 5.7MB/s \n",
      "\u001b[?25hCollecting Keras==2.0.9 (from deepmoji==1.0)\n",
      "\u001b[?25l  Downloading https://files.pythonhosted.org/packages/b6/5a/c7fe49396e9d14f89b05ea550f3d5f8c4cfb3af20e831a3d323fec2a0d5b/Keras-2.0.9-py2.py3-none-any.whl (299kB)\n",
      "\u001b[K    100% |████████████████████████████████| 307kB 13.5MB/s \n",
      "\u001b[?25hCollecting numpy==1.13.1 (from deepmoji==1.0)\n",
      "\u001b[?25l  Downloading https://files.pythonhosted.org/packages/5f/d2/9fa0201944933afd6d059f1e32aa6bdb203b23ab62fc823d3adf36295b9a/numpy-1.13.1-cp27-cp27mu-manylinux1_x86_64.whl (16.6MB)\n",
      "\u001b[K    100% |████████████████████████████████| 16.6MB 1.4MB/s \n",
      "\u001b[?25hCollecting scikit-learn==0.19.0 (from deepmoji==1.0)\n",
      "\u001b[?25l  Downloading https://files.pythonhosted.org/packages/0e/46/cf53c3d9fd71a4e85714aa56bd32ca607ad945b4284d1e76bc909c94295a/scikit_learn-0.19.0-cp27-cp27mu-manylinux1_x86_64.whl (12.2MB)\n",
      "\u001b[K    100% |████████████████████████████████| 12.2MB 3.5MB/s \n",
      "\u001b[?25hCollecting text-unidecode==1.0 (from deepmoji==1.0)\n",
      "\u001b[?25l  Downloading https://files.pythonhosted.org/packages/09/c6/c7a477228b2162937f200ece3793bb21c0f21f66b00fc010cdeb93cf465b/text_unidecode-1.0-py2.py3-none-any.whl (75kB)\n",
      "\u001b[K    100% |████████████████████████████████| 81kB 26.4MB/s \n",
      "\u001b[?25hRequirement already satisfied: six in /usr/local/lib/python2.7/dist-packages (from h5py==2.7.0->deepmoji==1.0) (1.11.0)\n",
      "Requirement already satisfied: pyyaml in /usr/local/lib/python2.7/dist-packages (from Keras==2.0.9->deepmoji==1.0) (3.13)\n",
      "Requirement already satisfied: scipy>=0.14 in /usr/local/lib/python2.7/dist-packages (from Keras==2.0.9->deepmoji==1.0) (0.19.1)\n",
      "\u001b[31mtensorflow 1.12.0rc1 has requirement numpy>=1.13.3, but you'll have numpy 1.13.1 which is incompatible.\u001b[0m\n",
      "\u001b[31mspacy 2.0.16 has requirement numpy>=1.15.0, but you'll have numpy 1.13.1 which is incompatible.\u001b[0m\n",
      "Installing collected packages: emoji, numpy, h5py, Keras, scikit-learn, text-unidecode, deepmoji\n",
      "  Found existing installation: numpy 1.14.6\n",
      "    Uninstalling numpy-1.14.6:\n",
      "      Successfully uninstalled numpy-1.14.6\n",
      "  Found existing installation: h5py 2.8.0\n",
      "    Uninstalling h5py-2.8.0:\n",
      "      Successfully uninstalled h5py-2.8.0\n",
      "  Found existing installation: Keras 2.1.6\n",
      "    Uninstalling Keras-2.1.6:\n",
      "      Successfully uninstalled Keras-2.1.6\n",
      "  Found existing installation: scikit-learn 0.19.2\n",
      "    Uninstalling scikit-learn-0.19.2:\n",
      "      Successfully uninstalled scikit-learn-0.19.2\n",
      "  Running setup.py develop for deepmoji\n",
      "Successfully installed Keras-2.0.9 deepmoji emoji-0.4.5 h5py-2.7.0 numpy-1.13.1 scikit-learn-0.19.0 text-unidecode-1.0\n"
     ]
    }
   ],
   "source": [
    "!pip install -e ."
   ]
  },
  {
   "cell_type": "code",
   "execution_count": 7,
   "metadata": {
    "colab": {
     "base_uri": "https://localhost:8080/",
     "height": 547
    },
    "colab_type": "code",
    "id": "GDgamrwcv37D",
    "outputId": "cc3bf730-969e-498c-8fc6-5e17100f7a0a"
   },
   "outputs": [
    {
     "name": "stdout",
     "output_type": "stream",
     "text": [
      "About to download the pretrained weights file from https://www.dropbox.com/s/xqarafsl6a8f9ny/deepmoji_weights.hdf5?dl=0#\n",
      "The size of the file is roughly 85MB. Continue? [y/n]\n",
      "y\n",
      "Downloading...\n",
      "Running system call: wget https://www.dropbox.com/s/xqarafsl6a8f9ny/deepmoji_weights.hdf5?dl=0# -O /content/DeepMoji/model/deepmoji_weights.hdf5\n",
      "--2018-10-24 19:33:53--  https://www.dropbox.com/s/xqarafsl6a8f9ny/deepmoji_weights.hdf5?dl=0\n",
      "Resolving www.dropbox.com (www.dropbox.com)... 162.125.8.1, 2620:100:601b:1::a27d:801\n",
      "Connecting to www.dropbox.com (www.dropbox.com)|162.125.8.1|:443... connected.\n",
      "HTTP request sent, awaiting response... 301 Moved Permanently\n",
      "Location: /s/raw/xqarafsl6a8f9ny/deepmoji_weights.hdf5 [following]\n",
      "--2018-10-24 19:33:54--  https://www.dropbox.com/s/raw/xqarafsl6a8f9ny/deepmoji_weights.hdf5\n",
      "Reusing existing connection to www.dropbox.com:443.\n",
      "HTTP request sent, awaiting response... 302 Found\n",
      "Location: https://uc489c361d95eabc7bda0a506a9f.dl.dropboxusercontent.com/cd/0/inline/AT2183pRCKGEXVtqipujpdH5kOHkoF5q7klAAPJPVm__H9YgkUKwMqXHDGICgWrbS6C3Dkc2FGGnOxS4LpOwCCT-hrU6Gw5GkRG6Q68prgjIY3W6Hy3mHViuJC27qE7dAiu5gV5OoJZlwLXUqs3UF8js3PQOmEUcRneIENXVXTiGIRYGm6I6OKAMMeWeu-XipGw/file [following]\n",
      "--2018-10-24 19:33:54--  https://uc489c361d95eabc7bda0a506a9f.dl.dropboxusercontent.com/cd/0/inline/AT2183pRCKGEXVtqipujpdH5kOHkoF5q7klAAPJPVm__H9YgkUKwMqXHDGICgWrbS6C3Dkc2FGGnOxS4LpOwCCT-hrU6Gw5GkRG6Q68prgjIY3W6Hy3mHViuJC27qE7dAiu5gV5OoJZlwLXUqs3UF8js3PQOmEUcRneIENXVXTiGIRYGm6I6OKAMMeWeu-XipGw/file\n",
      "Resolving uc489c361d95eabc7bda0a506a9f.dl.dropboxusercontent.com (uc489c361d95eabc7bda0a506a9f.dl.dropboxusercontent.com)... 162.125.3.6, 2620:100:601b:6::a27d:806\n",
      "Connecting to uc489c361d95eabc7bda0a506a9f.dl.dropboxusercontent.com (uc489c361d95eabc7bda0a506a9f.dl.dropboxusercontent.com)|162.125.3.6|:443... connected.\n",
      "HTTP request sent, awaiting response... 302 FOUND\n",
      "Location: /cd/0/inline2/AT066ETTmfuwCLfhB1Owbsj6lMDCzeJ22WKTl4OcvPltNN43L0_CogqxlO8lHbLrs5fQPcGTueOF-QryFl6PXLJSrEIpE2bGD-kcTNigMPraRg2Kw4PKB143sAK97ALIST2JWOAY_s15EJw2unfBAbUmjbRdq9udF1PbStMhwVU5Xq_XXZxoJl9Pk7Dso1_0XIF6Ok6od3aDZ1J61vQNFwMfjSveYklf81YocsJU5wVA4gDVnqrEgm_EHYEOinAZm2TkL6WXhiZUoviFr2_HomK8KIC4vh2fhydwrHHvFJ0mVW5tAMGtVLgRfpZia9kH9WVifcyRRTIbHFUe3bkR2Ie7Da9cqtzFuDvwSN37C0JG6bcyJo2x6aAB9FgFbNKleE7-GeYtxzeXrkBo2KD54kFlHUtXZO8YN3KvwUAggFlCMyasKJzP9uivzN4tqMwwS4g/file [following]\n",
      "--2018-10-24 19:33:55--  https://uc489c361d95eabc7bda0a506a9f.dl.dropboxusercontent.com/cd/0/inline2/AT066ETTmfuwCLfhB1Owbsj6lMDCzeJ22WKTl4OcvPltNN43L0_CogqxlO8lHbLrs5fQPcGTueOF-QryFl6PXLJSrEIpE2bGD-kcTNigMPraRg2Kw4PKB143sAK97ALIST2JWOAY_s15EJw2unfBAbUmjbRdq9udF1PbStMhwVU5Xq_XXZxoJl9Pk7Dso1_0XIF6Ok6od3aDZ1J61vQNFwMfjSveYklf81YocsJU5wVA4gDVnqrEgm_EHYEOinAZm2TkL6WXhiZUoviFr2_HomK8KIC4vh2fhydwrHHvFJ0mVW5tAMGtVLgRfpZia9kH9WVifcyRRTIbHFUe3bkR2Ie7Da9cqtzFuDvwSN37C0JG6bcyJo2x6aAB9FgFbNKleE7-GeYtxzeXrkBo2KD54kFlHUtXZO8YN3KvwUAggFlCMyasKJzP9uivzN4tqMwwS4g/file\n",
      "Reusing existing connection to uc489c361d95eabc7bda0a506a9f.dl.dropboxusercontent.com:443.\n",
      "HTTP request sent, awaiting response... 200 OK\n",
      "Length: 89610904 (85M) [application/octet-stream]\n",
      "Saving to: ‘/content/DeepMoji/model/deepmoji_weights.hdf5’\n",
      "\n",
      "/content/DeepMoji/m 100%[===================>]  85.46M  27.7MB/s    in 3.1s    \n",
      "\n",
      "2018-10-24 19:33:59 (27.7 MB/s) - ‘/content/DeepMoji/model/deepmoji_weights.hdf5’ saved [89610904/89610904]\n",
      "\n",
      "Downloaded weights to model/deepmoji_weights.hdf5\n"
     ]
    }
   ],
   "source": [
    "!python scripts/download_weights.py"
   ]
  },
  {
   "cell_type": "code",
   "execution_count": 8,
   "metadata": {
    "colab": {
     "base_uri": "https://localhost:8080/",
     "height": 1125
    },
    "colab_type": "code",
    "id": "hb9eEHcZwAmb",
    "outputId": "746a1153-83bd-47b0-d0da-a875f1a78e29",
    "scrolled": false
   },
   "outputs": [
    {
     "name": "stdout",
     "output_type": "stream",
     "text": [
      "Using TensorFlow backend.\n",
      "RuntimeError: module compiled against API version 0xc but this version of numpy is 0xb\n",
      "RuntimeError: module compiled against API version 0xc but this version of numpy is 0xb\n",
      "2018-10-24 19:34:02.633918: I tensorflow/stream_executor/cuda/cuda_gpu_executor.cc:964] successful NUMA node read from SysFS had negative value (-1), but there must be at least one NUMA node, so returning NUMA node zero\n",
      "2018-10-24 19:34:02.637767: I tensorflow/core/common_runtime/gpu/gpu_device.cc:1432] Found device 0 with properties: \n",
      "name: Tesla K80 major: 3 minor: 7 memoryClockRate(GHz): 0.8235\n",
      "pciBusID: 0000:00:04.0\n",
      "totalMemory: 11.17GiB freeMemory: 11.10GiB\n",
      "2018-10-24 19:34:02.637828: I tensorflow/core/common_runtime/gpu/gpu_device.cc:1511] Adding visible gpu devices: 0\n",
      "2018-10-24 19:34:03.629761: I tensorflow/core/common_runtime/gpu/gpu_device.cc:982] Device interconnect StreamExecutor with strength 1 edge matrix:\n",
      "2018-10-24 19:34:03.629846: I tensorflow/core/common_runtime/gpu/gpu_device.cc:988]      0 \n",
      "2018-10-24 19:34:03.629875: I tensorflow/core/common_runtime/gpu/gpu_device.cc:1001] 0:   N \n",
      "2018-10-24 19:34:03.630287: W tensorflow/core/common_runtime/gpu/gpu_bfc_allocator.cc:42] Overriding allow_growth setting because the TF_FORCE_GPU_ALLOW_GROWTH environment variable is set. Original config value was 0.\n",
      "2018-10-24 19:34:03.630431: I tensorflow/core/common_runtime/gpu/gpu_device.cc:1115] Created TensorFlow device (/device:GPU:0 with 10758 MB memory) -> physical GPU (device: 0, name: Tesla K80, pci bus id: 0000:00:04.0, compute capability: 3.7)\n",
      "Tokenizing using dictionary from /content/DeepMoji/model/vocabulary.json\n",
      "Loading model from /content/DeepMoji/model/deepmoji_weights.hdf5.\n",
      "WARNING:tensorflow:From /usr/local/lib/python2.7/dist-packages/keras/backend/tensorflow_backend.py:1238: calling reduce_sum (from tensorflow.python.ops.math_ops) with keep_dims is deprecated and will be removed in a future version.\n",
      "Instructions for updating:\n",
      "keep_dims is deprecated, use keepdims instead\n",
      "WARNING:tensorflow:From /usr/local/lib/python2.7/dist-packages/keras/backend/tensorflow_backend.py:1370: calling reduce_all (from tensorflow.python.ops.math_ops) with keep_dims is deprecated and will be removed in a future version.\n",
      "Instructions for updating:\n",
      "keep_dims is deprecated, use keepdims instead\n",
      "WARNING:tensorflow:From /usr/local/lib/python2.7/dist-packages/keras/backend/tensorflow_backend.py:1204: calling reduce_max (from tensorflow.python.ops.math_ops) with keep_dims is deprecated and will be removed in a future version.\n",
      "Instructions for updating:\n",
      "keep_dims is deprecated, use keepdims instead\n",
      "2018-10-24 19:34:08.281870: I tensorflow/core/common_runtime/gpu/gpu_device.cc:1511] Adding visible gpu devices: 0\n",
      "2018-10-24 19:34:08.281972: I tensorflow/core/common_runtime/gpu/gpu_device.cc:982] Device interconnect StreamExecutor with strength 1 edge matrix:\n",
      "2018-10-24 19:34:08.282004: I tensorflow/core/common_runtime/gpu/gpu_device.cc:988]      0 \n",
      "2018-10-24 19:34:08.282033: I tensorflow/core/common_runtime/gpu/gpu_device.cc:1001] 0:   N \n",
      "2018-10-24 19:34:08.282339: I tensorflow/core/common_runtime/gpu/gpu_device.cc:1115] Created TensorFlow device (/job:localhost/replica:0/task:0/device:GPU:0 with 10758 MB memory) -> physical GPU (device: 0, name: Tesla K80, pci bus id: 0000:00:04.0, compute capability: 3.7)\n",
      "__________________________________________________________________________________________________\n",
      "Layer (type)                    Output Shape         Param #     Connected to                     \n",
      "==================================================================================================\n",
      "input_1 (InputLayer)            (None, 30)           0                                            \n",
      "__________________________________________________________________________________________________\n",
      "embedding (Embedding)           (None, 30, 256)      12800000    input_1[0][0]                    \n",
      "__________________________________________________________________________________________________\n",
      "activation_1 (Activation)       (None, 30, 256)      0           embedding[0][0]                  \n",
      "__________________________________________________________________________________________________\n",
      "bi_lstm_0 (Bidirectional)       (None, 30, 1024)     3149824     activation_1[0][0]               \n",
      "__________________________________________________________________________________________________\n",
      "bi_lstm_1 (Bidirectional)       (None, 30, 1024)     6295552     bi_lstm_0[0][0]                  \n",
      "__________________________________________________________________________________________________\n",
      "concatenate_1 (Concatenate)     (None, 30, 2304)     0           bi_lstm_1[0][0]                  \n",
      "                                                                 bi_lstm_0[0][0]                  \n",
      "                                                                 activation_1[0][0]               \n",
      "__________________________________________________________________________________________________\n",
      "attlayer (AttentionWeightedAver (None, 2304)         2304        concatenate_1[0][0]              \n",
      "__________________________________________________________________________________________________\n",
      "softmax (Dense)                 (None, 64)           147520      attlayer[0][0]                   \n",
      "==================================================================================================\n",
      "Total params: 22,395,200\n",
      "Trainable params: 22,395,200\n",
      "Non-trainable params: 0\n",
      "__________________________________________________________________________________________________\n",
      "Running predictions.\n",
      "Writing results to test_sentences.csv\n",
      "[u\"I love mom's cooking\", 0.6676924042403698, 36, 4, 8, 16, 47, 0.49053341, 0.087657757, 0.030925216, 0.029632857, 0.028943162]\n",
      "[u'I love how you never reply back..', 0.39060424268245697, 1, 19, 55, 25, 46, 0.13978, 0.082515754, 0.062788285, 0.054191127, 0.051329076]\n",
      "[u'I love cruising with my homies', 0.54133111611008644, 31, 6, 30, 15, 13, 0.33965695, 0.066058114, 0.057058826, 0.040674023, 0.037883203]\n",
      "[u'I love messing with yo mind!!', 0.48666677996516228, 54, 44, 9, 50, 49, 0.17236328, 0.11843599, 0.0796059, 0.063710339, 0.052551273]\n",
      "[u\"I love you and now you're just gone..\", 0.67333493754267693, 46, 5, 27, 35, 34, 0.39116499, 0.11033397, 0.073462516, 0.052958764, 0.045414697]\n",
      "[u'This is shit', 0.31180424243211746, 55, 32, 27, 1, 37, 0.070093207, 0.063969389, 0.060115736, 0.059525643, 0.058100268]\n",
      "[u'This is the shit', 0.37477048486471176, 48, 11, 6, 31, 9, 0.10890723, 0.096594527, 0.064820781, 0.056501351, 0.047946595]\n"
     ]
    }
   ],
   "source": [
    "!python examples/score_texts_emojis.py"
   ]
  },
  {
   "cell_type": "code",
   "execution_count": 9,
   "metadata": {
    "colab": {
     "base_uri": "https://localhost:8080/",
     "height": 1309
    },
    "colab_type": "code",
    "id": "067YFCm_kQC4",
    "outputId": "c001abfb-e28c-401b-ec5c-6d7eeb5da7cb"
   },
   "outputs": [
    {
     "name": "stdout",
     "output_type": "stream",
     "text": [
      "# -*- coding: utf-8 -*-\n",
      "\n",
      "\"\"\" Use DeepMoji to score texts for emoji distribution.\n",
      "\n",
      "The resulting emoji ids (0-63) correspond to the mapping\n",
      "in emoji_overview.png file at the root of the DeepMoji repo.\n",
      "\n",
      "Writes the result to a csv file.\n",
      "\"\"\"\n",
      "from __future__ import print_function, division\n",
      "import example_helper\n",
      "import json\n",
      "import csv\n",
      "import numpy as np\n",
      "from deepmoji.sentence_tokenizer import SentenceTokenizer\n",
      "from deepmoji.model_def import deepmoji_emojis\n",
      "from deepmoji.global_variables import PRETRAINED_PATH, VOCAB_PATH\n",
      "\n",
      "OUTPUT_PATH = 'test_sentences.csv'\n",
      "\n",
      "TEST_SENTENCES = [u'I love mom\\'s cooking',\n",
      "                  u'I love how you never reply back..',\n",
      "                  u'I love cruising with my homies',\n",
      "                  u'I love messing with yo mind!!',\n",
      "                  u'I love you and now you\\'re just gone..',\n",
      "                  u'This is shit',\n",
      "                  u'This is the shit']\n",
      "\n",
      "\n",
      "def top_elements(array, k):\n",
      "    ind = np.argpartition(array, -k)[-k:]\n",
      "    return ind[np.argsort(array[ind])][::-1]\n",
      "\n",
      "\n",
      "maxlen = 30\n",
      "batch_size = 32\n",
      "\n",
      "print('Tokenizing using dictionary from {}'.format(VOCAB_PATH))\n",
      "with open(VOCAB_PATH, 'r') as f:\n",
      "    vocabulary = json.load(f)\n",
      "st = SentenceTokenizer(vocabulary, maxlen)\n",
      "tokenized, _, _ = st.tokenize_sentences(TEST_SENTENCES)\n",
      "\n",
      "print('Loading model from {}.'.format(PRETRAINED_PATH))\n",
      "model = deepmoji_emojis(maxlen, PRETRAINED_PATH)\n",
      "model.summary()\n",
      "\n",
      "print('Running predictions.')\n",
      "prob = model.predict(tokenized)\n",
      "\n",
      "# Find top emojis for each sentence. Emoji ids (0-63)\n",
      "# correspond to the mapping in emoji_overview.png\n",
      "# at the root of the DeepMoji repo.\n",
      "print('Writing results to {}'.format(OUTPUT_PATH))\n",
      "scores = []\n",
      "for i, t in enumerate(TEST_SENTENCES):\n",
      "    t_tokens = tokenized[i]\n",
      "    t_score = [t]\n",
      "    t_prob = prob[i]\n",
      "    ind_top = top_elements(t_prob, 5)\n",
      "    t_score.append(sum(t_prob[ind_top]))\n",
      "    t_score.extend(ind_top)\n",
      "    t_score.extend([t_prob[ind] for ind in ind_top])\n",
      "    scores.append(t_score)\n",
      "    print(t_score)\n",
      "\n",
      "with open(OUTPUT_PATH, 'wb') as csvfile:\n",
      "    writer = csv.writer(csvfile, delimiter=',', lineterminator='\\n')\n",
      "    writer.writerow(['Text', 'Top5%',\n",
      "                     'Emoji_1', 'Emoji_2', 'Emoji_3', 'Emoji_4', 'Emoji_5',\n",
      "                     'Pct_1', 'Pct_2', 'Pct_3', 'Pct_4', 'Pct_5'])\n",
      "    for i, row in enumerate(scores):\n",
      "        try:\n",
      "            writer.writerow(row)\n",
      "        except Exception:\n",
      "            print(\"Exception at row {}!\".format(i))\n"
     ]
    }
   ],
   "source": [
    "!cat examples/score_texts_emojis.py"
   ]
  },
  {
   "cell_type": "code",
   "execution_count": 0,
   "metadata": {
    "colab": {},
    "colab_type": "code",
    "collapsed": true,
    "id": "LvRP5e4SkXT8"
   },
   "outputs": [],
   "source": [
    "with open('examples/score_texts_emojis.py', 'r') as inputfile:\n",
    "  txt = inputfile.read()\n",
    "  with open('examples/score_texts_emojis2.py', 'w') as outputfile:\n",
    "    outputfile.write(txt.replace(\"u'This is the shit'\", \"u'This is the shit', u'Weather is nice today', u'I am so tired of school', u'Can not wait to be done'\"))"
   ]
  },
  {
   "cell_type": "code",
   "execution_count": 20,
   "metadata": {
    "colab": {
     "base_uri": "https://localhost:8080/",
     "height": 1309
    },
    "colab_type": "code",
    "id": "6xOlHUs0kYRV",
    "outputId": "6e2c4f5e-bb9e-4168-af1c-be4b6bff0b2a"
   },
   "outputs": [
    {
     "name": "stdout",
     "output_type": "stream",
     "text": [
      "# -*- coding: utf-8 -*-\n",
      "\n",
      "\"\"\" Use DeepMoji to score texts for emoji distribution.\n",
      "\n",
      "The resulting emoji ids (0-63) correspond to the mapping\n",
      "in emoji_overview.png file at the root of the DeepMoji repo.\n",
      "\n",
      "Writes the result to a csv file.\n",
      "\"\"\"\n",
      "from __future__ import print_function, division\n",
      "import example_helper\n",
      "import json\n",
      "import csv\n",
      "import numpy as np\n",
      "from deepmoji.sentence_tokenizer import SentenceTokenizer\n",
      "from deepmoji.model_def import deepmoji_emojis\n",
      "from deepmoji.global_variables import PRETRAINED_PATH, VOCAB_PATH\n",
      "\n",
      "OUTPUT_PATH = 'test_sentences.csv'\n",
      "\n",
      "TEST_SENTENCES = [u'I love mom\\'s cooking',\n",
      "                  u'I love how you never reply back..',\n",
      "                  u'I love cruising with my homies',\n",
      "                  u'I love messing with yo mind!!',\n",
      "                  u'I love you and now you\\'re just gone..',\n",
      "                  u'This is shit',\n",
      "                  u'This is the shit', u'Weather is nice today', u'I am so tired of school', u'Can not wait to be done']\n",
      "\n",
      "\n",
      "def top_elements(array, k):\n",
      "    ind = np.argpartition(array, -k)[-k:]\n",
      "    return ind[np.argsort(array[ind])][::-1]\n",
      "\n",
      "\n",
      "maxlen = 30\n",
      "batch_size = 32\n",
      "\n",
      "print('Tokenizing using dictionary from {}'.format(VOCAB_PATH))\n",
      "with open(VOCAB_PATH, 'r') as f:\n",
      "    vocabulary = json.load(f)\n",
      "st = SentenceTokenizer(vocabulary, maxlen)\n",
      "tokenized, _, _ = st.tokenize_sentences(TEST_SENTENCES)\n",
      "\n",
      "print('Loading model from {}.'.format(PRETRAINED_PATH))\n",
      "model = deepmoji_emojis(maxlen, PRETRAINED_PATH)\n",
      "model.summary()\n",
      "\n",
      "print('Running predictions.')\n",
      "prob = model.predict(tokenized)\n",
      "\n",
      "# Find top emojis for each sentence. Emoji ids (0-63)\n",
      "# correspond to the mapping in emoji_overview.png\n",
      "# at the root of the DeepMoji repo.\n",
      "print('Writing results to {}'.format(OUTPUT_PATH))\n",
      "scores = []\n",
      "for i, t in enumerate(TEST_SENTENCES):\n",
      "    t_tokens = tokenized[i]\n",
      "    t_score = [t]\n",
      "    t_prob = prob[i]\n",
      "    ind_top = top_elements(t_prob, 5)\n",
      "    t_score.append(sum(t_prob[ind_top]))\n",
      "    t_score.extend(ind_top)\n",
      "    t_score.extend([t_prob[ind] for ind in ind_top])\n",
      "    scores.append(t_score)\n",
      "    print(t_score)\n",
      "\n",
      "with open(OUTPUT_PATH, 'wb') as csvfile:\n",
      "    writer = csv.writer(csvfile, delimiter=',', lineterminator='\\n')\n",
      "    writer.writerow(['Text', 'Top5%',\n",
      "                     'Emoji_1', 'Emoji_2', 'Emoji_3', 'Emoji_4', 'Emoji_5',\n",
      "                     'Pct_1', 'Pct_2', 'Pct_3', 'Pct_4', 'Pct_5'])\n",
      "    for i, row in enumerate(scores):\n",
      "        try:\n",
      "            writer.writerow(row)\n",
      "        except Exception:\n",
      "            print(\"Exception at row {}!\".format(i))\n"
     ]
    }
   ],
   "source": [
    "!cat examples/score_texts_emojis2.py"
   ]
  },
  {
   "cell_type": "code",
   "execution_count": 21,
   "metadata": {
    "colab": {
     "base_uri": "https://localhost:8080/",
     "height": 1176
    },
    "colab_type": "code",
    "id": "LtSouhi0mUVl",
    "outputId": "0e4a4249-a34e-4a06-ec28-2899ac28cc55"
   },
   "outputs": [
    {
     "name": "stdout",
     "output_type": "stream",
     "text": [
      "Using TensorFlow backend.\n",
      "RuntimeError: module compiled against API version 0xc but this version of numpy is 0xb\n",
      "RuntimeError: module compiled against API version 0xc but this version of numpy is 0xb\n",
      "2018-10-24 19:43:08.022382: I tensorflow/stream_executor/cuda/cuda_gpu_executor.cc:964] successful NUMA node read from SysFS had negative value (-1), but there must be at least one NUMA node, so returning NUMA node zero\n",
      "2018-10-24 19:43:08.022912: I tensorflow/core/common_runtime/gpu/gpu_device.cc:1432] Found device 0 with properties: \n",
      "name: Tesla K80 major: 3 minor: 7 memoryClockRate(GHz): 0.8235\n",
      "pciBusID: 0000:00:04.0\n",
      "totalMemory: 11.17GiB freeMemory: 11.10GiB\n",
      "2018-10-24 19:43:08.022962: I tensorflow/core/common_runtime/gpu/gpu_device.cc:1511] Adding visible gpu devices: 0\n",
      "2018-10-24 19:43:08.460948: I tensorflow/core/common_runtime/gpu/gpu_device.cc:982] Device interconnect StreamExecutor with strength 1 edge matrix:\n",
      "2018-10-24 19:43:08.461023: I tensorflow/core/common_runtime/gpu/gpu_device.cc:988]      0 \n",
      "2018-10-24 19:43:08.461064: I tensorflow/core/common_runtime/gpu/gpu_device.cc:1001] 0:   N \n",
      "2018-10-24 19:43:08.461387: W tensorflow/core/common_runtime/gpu/gpu_bfc_allocator.cc:42] Overriding allow_growth setting because the TF_FORCE_GPU_ALLOW_GROWTH environment variable is set. Original config value was 0.\n",
      "2018-10-24 19:43:08.461461: I tensorflow/core/common_runtime/gpu/gpu_device.cc:1115] Created TensorFlow device (/device:GPU:0 with 10758 MB memory) -> physical GPU (device: 0, name: Tesla K80, pci bus id: 0000:00:04.0, compute capability: 3.7)\n",
      "Tokenizing using dictionary from /content/DeepMoji/model/vocabulary.json\n",
      "Loading model from /content/DeepMoji/model/deepmoji_weights.hdf5.\n",
      "WARNING:tensorflow:From /usr/local/lib/python2.7/dist-packages/keras/backend/tensorflow_backend.py:1238: calling reduce_sum (from tensorflow.python.ops.math_ops) with keep_dims is deprecated and will be removed in a future version.\n",
      "Instructions for updating:\n",
      "keep_dims is deprecated, use keepdims instead\n",
      "WARNING:tensorflow:From /usr/local/lib/python2.7/dist-packages/keras/backend/tensorflow_backend.py:1370: calling reduce_all (from tensorflow.python.ops.math_ops) with keep_dims is deprecated and will be removed in a future version.\n",
      "Instructions for updating:\n",
      "keep_dims is deprecated, use keepdims instead\n",
      "WARNING:tensorflow:From /usr/local/lib/python2.7/dist-packages/keras/backend/tensorflow_backend.py:1204: calling reduce_max (from tensorflow.python.ops.math_ops) with keep_dims is deprecated and will be removed in a future version.\n",
      "Instructions for updating:\n",
      "keep_dims is deprecated, use keepdims instead\n",
      "2018-10-24 19:43:13.158622: I tensorflow/core/common_runtime/gpu/gpu_device.cc:1511] Adding visible gpu devices: 0\n",
      "2018-10-24 19:43:13.158741: I tensorflow/core/common_runtime/gpu/gpu_device.cc:982] Device interconnect StreamExecutor with strength 1 edge matrix:\n",
      "2018-10-24 19:43:13.158779: I tensorflow/core/common_runtime/gpu/gpu_device.cc:988]      0 \n",
      "2018-10-24 19:43:13.158824: I tensorflow/core/common_runtime/gpu/gpu_device.cc:1001] 0:   N \n",
      "2018-10-24 19:43:13.159152: I tensorflow/core/common_runtime/gpu/gpu_device.cc:1115] Created TensorFlow device (/job:localhost/replica:0/task:0/device:GPU:0 with 10758 MB memory) -> physical GPU (device: 0, name: Tesla K80, pci bus id: 0000:00:04.0, compute capability: 3.7)\n",
      "__________________________________________________________________________________________________\n",
      "Layer (type)                    Output Shape         Param #     Connected to                     \n",
      "==================================================================================================\n",
      "input_1 (InputLayer)            (None, 30)           0                                            \n",
      "__________________________________________________________________________________________________\n",
      "embedding (Embedding)           (None, 30, 256)      12800000    input_1[0][0]                    \n",
      "__________________________________________________________________________________________________\n",
      "activation_1 (Activation)       (None, 30, 256)      0           embedding[0][0]                  \n",
      "__________________________________________________________________________________________________\n",
      "bi_lstm_0 (Bidirectional)       (None, 30, 1024)     3149824     activation_1[0][0]               \n",
      "__________________________________________________________________________________________________\n",
      "bi_lstm_1 (Bidirectional)       (None, 30, 1024)     6295552     bi_lstm_0[0][0]                  \n",
      "__________________________________________________________________________________________________\n",
      "concatenate_1 (Concatenate)     (None, 30, 2304)     0           bi_lstm_1[0][0]                  \n",
      "                                                                 bi_lstm_0[0][0]                  \n",
      "                                                                 activation_1[0][0]               \n",
      "__________________________________________________________________________________________________\n",
      "attlayer (AttentionWeightedAver (None, 2304)         2304        concatenate_1[0][0]              \n",
      "__________________________________________________________________________________________________\n",
      "softmax (Dense)                 (None, 64)           147520      attlayer[0][0]                   \n",
      "==================================================================================================\n",
      "Total params: 22,395,200\n",
      "Trainable params: 22,395,200\n",
      "Non-trainable params: 0\n",
      "__________________________________________________________________________________________________\n",
      "Running predictions.\n",
      "Writing results to test_sentences.csv\n",
      "[u\"I love mom's cooking\", 0.66769226081669331, 36, 4, 8, 16, 47, 0.49053317, 0.087657839, 0.030925231, 0.029632855, 0.028943162]\n",
      "[u'I love how you never reply back..', 0.39060423523187637, 1, 19, 55, 25, 46, 0.13977993, 0.082515739, 0.062788323, 0.054191153, 0.051329095]\n",
      "[u'I love cruising with my homies', 0.54133119434118271, 31, 6, 30, 15, 13, 0.33965701, 0.066058114, 0.057058837, 0.040674023, 0.037883211]\n",
      "[u'I love messing with yo mind!!', 0.48666661605238914, 54, 44, 9, 50, 49, 0.17236324, 0.11843579, 0.079605877, 0.063710377, 0.05255134]\n",
      "[u\"I love you and now you're just gone..\", 0.67333526909351349, 46, 5, 27, 35, 34, 0.39116555, 0.11033386, 0.073462442, 0.052958734, 0.045414679]\n",
      "[u'This is shit', 0.31180428713560104, 55, 32, 27, 1, 37, 0.070093207, 0.063969433, 0.060115747, 0.059525643, 0.058100257]\n",
      "[u'This is the shit', 0.37477058917284012, 48, 11, 6, 31, 9, 0.10890723, 0.096594557, 0.064820774, 0.056501422, 0.047946606]\n",
      "[u'Weather is nice today', 0.56558269634842873, 31, 6, 15, 33, 16, 0.16841543, 0.15105209, 0.12194639, 0.072632924, 0.051535871]\n",
      "[u'I am so tired of school', 0.37797372043132782, 42, 37, 14, 1, 35, 0.10544488, 0.08006677, 0.069101423, 0.064712979, 0.05864767]\n",
      "[u'Can not wait to be done', 0.26462508738040924, 14, 45, 17, 29, 2, 0.076986656, 0.053812049, 0.048351582, 0.042879686, 0.042595115]\n"
     ]
    }
   ],
   "source": [
    "!python examples/score_texts_emojis2.py"
   ]
  },
  {
   "cell_type": "code",
   "execution_count": 9,
   "metadata": {
    "colab": {
     "base_uri": "https://localhost:8080/",
     "height": 136
    },
    "colab_type": "code",
    "id": "hbO9nTzKwKTs",
    "outputId": "443060f1-ef94-43ad-97e1-38906d45b942"
   },
   "outputs": [
    {
     "name": "stdout",
     "output_type": "stream",
     "text": [
      "create_twitter_vocab.py\t\t  finetune_youtube_last.py\n",
      "dataset_split.py\t\t  imdb_from_scratch.py\n",
      "encode_texts.py\t\t\t  __init__.py\n",
      "example_helper.py\t\t  README.md\n",
      "example_helper.pyc\t\t  score_texts_emojis.py\n",
      "finetune_insults_chain-thaw.py\t  tokenize_dataset.py\n",
      "finetune_semeval_class-avg_f1.py  vocab_extension.py\n"
     ]
    }
   ],
   "source": [
    "!ls examples/"
   ]
  },
  {
   "cell_type": "code",
   "execution_count": 10,
   "metadata": {
    "colab": {
     "base_uri": "https://localhost:8080/",
     "height": 34
    },
    "colab_type": "code",
    "id": "KYd19A5vE91p",
    "outputId": "9fff8ac8-f1e0-46ff-f36a-9e9c412d6ca3"
   },
   "outputs": [
    {
     "name": "stdout",
     "output_type": "stream",
     "text": [
      "/content/DeepMoji/examples\n"
     ]
    }
   ],
   "source": [
    "% cd examples/"
   ]
  },
  {
   "cell_type": "code",
   "execution_count": 11,
   "metadata": {
    "colab": {
     "base_uri": "https://localhost:8080/",
     "height": 1244
    },
    "colab_type": "code",
    "id": "oh4YLL_Jwb2i",
    "outputId": "72520e59-5e3b-42b4-fd0e-128958475c5c"
   },
   "outputs": [
    {
     "name": "stdout",
     "output_type": "stream",
     "text": [
      "Using TensorFlow backend.\n",
      "RuntimeError: module compiled against API version 0xc but this version of numpy is 0xb\n",
      "RuntimeError: module compiled against API version 0xc but this version of numpy is 0xb\n",
      "2018-10-24 17:16:51.514826: I tensorflow/stream_executor/cuda/cuda_gpu_executor.cc:964] successful NUMA node read from SysFS had negative value (-1), but there must be at least one NUMA node, so returning NUMA node zero\n",
      "2018-10-24 17:16:51.515320: I tensorflow/core/common_runtime/gpu/gpu_device.cc:1432] Found device 0 with properties: \n",
      "name: Tesla K80 major: 3 minor: 7 memoryClockRate(GHz): 0.8235\n",
      "pciBusID: 0000:00:04.0\n",
      "totalMemory: 11.17GiB freeMemory: 11.10GiB\n",
      "2018-10-24 17:16:51.515363: I tensorflow/core/common_runtime/gpu/gpu_device.cc:1511] Adding visible gpu devices: 0\n",
      "2018-10-24 17:16:51.955399: I tensorflow/core/common_runtime/gpu/gpu_device.cc:982] Device interconnect StreamExecutor with strength 1 edge matrix:\n",
      "2018-10-24 17:16:51.955481: I tensorflow/core/common_runtime/gpu/gpu_device.cc:988]      0 \n",
      "2018-10-24 17:16:51.955544: I tensorflow/core/common_runtime/gpu/gpu_device.cc:1001] 0:   N \n",
      "2018-10-24 17:16:51.955883: W tensorflow/core/common_runtime/gpu/gpu_bfc_allocator.cc:42] Overriding allow_growth setting because the TF_FORCE_GPU_ALLOW_GROWTH environment variable is set. Original config value was 0.\n",
      "2018-10-24 17:16:51.955960: I tensorflow/core/common_runtime/gpu/gpu_device.cc:1115] Created TensorFlow device (/device:GPU:0 with 10758 MB memory) -> physical GPU (device: 0, name: Tesla K80, pci bus id: 0000:00:04.0, compute capability: 3.7)\n",
      "WARNING:tensorflow:From /usr/local/lib/python2.7/dist-packages/keras/backend/tensorflow_backend.py:1238: calling reduce_sum (from tensorflow.python.ops.math_ops) with keep_dims is deprecated and will be removed in a future version.\n",
      "Instructions for updating:\n",
      "keep_dims is deprecated, use keepdims instead\n",
      "WARNING:tensorflow:From /usr/local/lib/python2.7/dist-packages/keras/backend/tensorflow_backend.py:1370: calling reduce_all (from tensorflow.python.ops.math_ops) with keep_dims is deprecated and will be removed in a future version.\n",
      "Instructions for updating:\n",
      "keep_dims is deprecated, use keepdims instead\n",
      "WARNING:tensorflow:From /usr/local/lib/python2.7/dist-packages/keras/backend/tensorflow_backend.py:1204: calling reduce_max (from tensorflow.python.ops.math_ops) with keep_dims is deprecated and will be removed in a future version.\n",
      "Instructions for updating:\n",
      "keep_dims is deprecated, use keepdims instead\n",
      "Loading weights for embedding\n",
      "2018-10-24 17:16:57.349385: I tensorflow/core/common_runtime/gpu/gpu_device.cc:1511] Adding visible gpu devices: 0\n",
      "2018-10-24 17:16:57.349484: I tensorflow/core/common_runtime/gpu/gpu_device.cc:982] Device interconnect StreamExecutor with strength 1 edge matrix:\n",
      "2018-10-24 17:16:57.349520: I tensorflow/core/common_runtime/gpu/gpu_device.cc:988]      0 \n",
      "2018-10-24 17:16:57.349546: I tensorflow/core/common_runtime/gpu/gpu_device.cc:1001] 0:   N \n",
      "2018-10-24 17:16:57.349902: I tensorflow/core/common_runtime/gpu/gpu_device.cc:1115] Created TensorFlow device (/job:localhost/replica:0/task:0/device:GPU:0 with 10758 MB memory) -> physical GPU (device: 0, name: Tesla K80, pci bus id: 0000:00:04.0, compute capability: 3.7)\n",
      "Loading weights for bi_lstm_0\n",
      "Loading weights for bi_lstm_1\n",
      "Loading weights for attlayer\n",
      "Ignoring weights for softmax\n",
      "__________________________________________________________________________________________________\n",
      "Layer (type)                    Output Shape         Param #     Connected to                     \n",
      "==================================================================================================\n",
      "input_1 (InputLayer)            (None, 30)           0                                            \n",
      "__________________________________________________________________________________________________\n",
      "embedding (Embedding)           (None, 30, 256)      12800000    input_1[0][0]                    \n",
      "__________________________________________________________________________________________________\n",
      "activation_1 (Activation)       (None, 30, 256)      0           embedding[0][0]                  \n",
      "__________________________________________________________________________________________________\n",
      "embed_drop (SpatialDropout1D)   (None, 30, 256)      0           activation_1[0][0]               \n",
      "__________________________________________________________________________________________________\n",
      "bi_lstm_0 (Bidirectional)       (None, 30, 1024)     3149824     embed_drop[0][0]                 \n",
      "__________________________________________________________________________________________________\n",
      "bi_lstm_1 (Bidirectional)       (None, 30, 1024)     6295552     bi_lstm_0[0][0]                  \n",
      "__________________________________________________________________________________________________\n",
      "concatenate_1 (Concatenate)     (None, 30, 2304)     0           bi_lstm_1[0][0]                  \n",
      "                                                                 bi_lstm_0[0][0]                  \n",
      "                                                                 embed_drop[0][0]                 \n",
      "__________________________________________________________________________________________________\n",
      "attlayer (AttentionWeightedAver (None, 2304)         2304        concatenate_1[0][0]              \n",
      "__________________________________________________________________________________________________\n",
      "dropout_1 (Dropout)             (None, 2304)         0           attlayer[0][0]                   \n",
      "__________________________________________________________________________________________________\n",
      "softmax (Dense)                 (None, 1)            2305        dropout_1[0][0]                  \n",
      "==================================================================================================\n",
      "Total params: 22,249,985\n",
      "Trainable params: 22,249,985\n",
      "Non-trainable params: 0\n",
      "__________________________________________________________________________________________________\n",
      "WARNING:tensorflow:From /usr/local/lib/python2.7/dist-packages/keras/backend/tensorflow_backend.py:1340: calling reduce_mean (from tensorflow.python.ops.math_ops) with keep_dims is deprecated and will be removed in a future version.\n",
      "Instructions for updating:\n",
      "keep_dims is deprecated, use keepdims instead\n",
      "Method:  last\n",
      "Metric:  acc\n",
      "Classes: 2\n",
      "Trainable weights: [<tf.Variable 'bi_lstm_0/forward_lstm_1/kernel:0' shape=(256, 2048) dtype=float32_ref>, <tf.Variable 'bi_lstm_0/forward_lstm_1/recurrent_kernel:0' shape=(512, 2048) dtype=float32_ref>, <tf.Variable 'bi_lstm_0/forward_lstm_1/bias:0' shape=(2048,) dtype=float32_ref>, <tf.Variable 'bi_lstm_0/backward_lstm_1/kernel:0' shape=(256, 2048) dtype=float32_ref>, <tf.Variable 'bi_lstm_0/backward_lstm_1/recurrent_kernel:0' shape=(512, 2048) dtype=float32_ref>, <tf.Variable 'bi_lstm_0/backward_lstm_1/bias:0' shape=(2048,) dtype=float32_ref>, <tf.Variable 'bi_lstm_1/forward_lstm_2/kernel:0' shape=(1024, 2048) dtype=float32_ref>, <tf.Variable 'bi_lstm_1/forward_lstm_2/recurrent_kernel:0' shape=(512, 2048) dtype=float32_ref>, <tf.Variable 'bi_lstm_1/forward_lstm_2/bias:0' shape=(2048,) dtype=float32_ref>, <tf.Variable 'bi_lstm_1/backward_lstm_2/kernel:0' shape=(1024, 2048) dtype=float32_ref>, <tf.Variable 'bi_lstm_1/backward_lstm_2/recurrent_kernel:0' shape=(512, 2048) dtype=float32_ref>, <tf.Variable 'bi_lstm_1/backward_lstm_2/bias:0' shape=(2048,) dtype=float32_ref>, <tf.Variable 'softmax/kernel:0' shape=(2304, 1) dtype=float32_ref>, <tf.Variable 'softmax/bias:0' shape=(1,) dtype=float32_ref>]\n",
      "Training..\n",
      "Acc: 0.894524955999\n"
     ]
    }
   ],
   "source": [
    "!python finetune_youtube_last.py"
   ]
  },
  {
   "cell_type": "code",
   "execution_count": 12,
   "metadata": {
    "colab": {
     "base_uri": "https://localhost:8080/",
     "height": 1346
    },
    "colab_type": "code",
    "id": "5Nq2f1AuwjUr",
    "outputId": "e5a266a2-5ef1-4304-992a-ba0cfae6ebd6"
   },
   "outputs": [
    {
     "name": "stdout",
     "output_type": "stream",
     "text": [
      "Using TensorFlow backend.\n",
      "RuntimeError: module compiled against API version 0xc but this version of numpy is 0xb\n",
      "RuntimeError: module compiled against API version 0xc but this version of numpy is 0xb\n",
      "2018-10-24 17:18:56.730899: I tensorflow/stream_executor/cuda/cuda_gpu_executor.cc:964] successful NUMA node read from SysFS had negative value (-1), but there must be at least one NUMA node, so returning NUMA node zero\n",
      "2018-10-24 17:18:56.731383: I tensorflow/core/common_runtime/gpu/gpu_device.cc:1432] Found device 0 with properties: \n",
      "name: Tesla K80 major: 3 minor: 7 memoryClockRate(GHz): 0.8235\n",
      "pciBusID: 0000:00:04.0\n",
      "totalMemory: 11.17GiB freeMemory: 11.10GiB\n",
      "2018-10-24 17:18:56.731425: I tensorflow/core/common_runtime/gpu/gpu_device.cc:1511] Adding visible gpu devices: 0\n",
      "2018-10-24 17:18:57.160256: I tensorflow/core/common_runtime/gpu/gpu_device.cc:982] Device interconnect StreamExecutor with strength 1 edge matrix:\n",
      "2018-10-24 17:18:57.160373: I tensorflow/core/common_runtime/gpu/gpu_device.cc:988]      0 \n",
      "2018-10-24 17:18:57.160395: I tensorflow/core/common_runtime/gpu/gpu_device.cc:1001] 0:   N \n",
      "2018-10-24 17:18:57.160748: W tensorflow/core/common_runtime/gpu/gpu_bfc_allocator.cc:42] Overriding allow_growth setting because the TF_FORCE_GPU_ALLOW_GROWTH environment variable is set. Original config value was 0.\n",
      "2018-10-24 17:18:57.160822: I tensorflow/core/common_runtime/gpu/gpu_device.cc:1115] Created TensorFlow device (/device:GPU:0 with 10758 MB memory) -> physical GPU (device: 0, name: Tesla K80, pci bus id: 0000:00:04.0, compute capability: 3.7)\n",
      "WARNING:tensorflow:From /usr/local/lib/python2.7/dist-packages/keras/backend/tensorflow_backend.py:1238: calling reduce_sum (from tensorflow.python.ops.math_ops) with keep_dims is deprecated and will be removed in a future version.\n",
      "Instructions for updating:\n",
      "keep_dims is deprecated, use keepdims instead\n",
      "WARNING:tensorflow:From /usr/local/lib/python2.7/dist-packages/keras/backend/tensorflow_backend.py:1370: calling reduce_all (from tensorflow.python.ops.math_ops) with keep_dims is deprecated and will be removed in a future version.\n",
      "Instructions for updating:\n",
      "keep_dims is deprecated, use keepdims instead\n",
      "WARNING:tensorflow:From /usr/local/lib/python2.7/dist-packages/keras/backend/tensorflow_backend.py:1204: calling reduce_max (from tensorflow.python.ops.math_ops) with keep_dims is deprecated and will be removed in a future version.\n",
      "Instructions for updating:\n",
      "keep_dims is deprecated, use keepdims instead\n",
      "Loading weights for embedding\n",
      "2018-10-24 17:19:58.664746: I tensorflow/core/common_runtime/gpu/gpu_device.cc:1511] Adding visible gpu devices: 0\n",
      "2018-10-24 17:19:58.664848: I tensorflow/core/common_runtime/gpu/gpu_device.cc:982] Device interconnect StreamExecutor with strength 1 edge matrix:\n",
      "2018-10-24 17:19:58.664876: I tensorflow/core/common_runtime/gpu/gpu_device.cc:988]      0 \n",
      "2018-10-24 17:19:58.664898: I tensorflow/core/common_runtime/gpu/gpu_device.cc:1001] 0:   N \n",
      "2018-10-24 17:19:58.665198: I tensorflow/core/common_runtime/gpu/gpu_device.cc:1115] Created TensorFlow device (/job:localhost/replica:0/task:0/device:GPU:0 with 10758 MB memory) -> physical GPU (device: 0, name: Tesla K80, pci bus id: 0000:00:04.0, compute capability: 3.7)\n",
      "Extended vocabulary for embedding layer from 50000 to 53545 tokens.\n",
      "Loading weights for bi_lstm_0\n",
      "Loading weights for bi_lstm_1\n",
      "Loading weights for attlayer\n",
      "Ignoring weights for softmax\n",
      "__________________________________________________________________________________________________\n",
      "Layer (type)                    Output Shape         Param #     Connected to                     \n",
      "==================================================================================================\n",
      "input_1 (InputLayer)            (None, 50)           0                                            \n",
      "__________________________________________________________________________________________________\n",
      "embedding (Embedding)           (None, 50, 256)      13707520    input_1[0][0]                    \n",
      "__________________________________________________________________________________________________\n",
      "activation_1 (Activation)       (None, 50, 256)      0           embedding[0][0]                  \n",
      "__________________________________________________________________________________________________\n",
      "embed_drop (SpatialDropout1D)   (None, 50, 256)      0           activation_1[0][0]               \n",
      "__________________________________________________________________________________________________\n",
      "bi_lstm_0 (Bidirectional)       (None, 50, 1024)     3149824     embed_drop[0][0]                 \n",
      "__________________________________________________________________________________________________\n",
      "bi_lstm_1 (Bidirectional)       (None, 50, 1024)     6295552     bi_lstm_0[0][0]                  \n",
      "__________________________________________________________________________________________________\n",
      "concatenate_1 (Concatenate)     (None, 50, 2304)     0           bi_lstm_1[0][0]                  \n",
      "                                                                 bi_lstm_0[0][0]                  \n",
      "                                                                 embed_drop[0][0]                 \n",
      "__________________________________________________________________________________________________\n",
      "attlayer (AttentionWeightedAver (None, 2304)         2304        concatenate_1[0][0]              \n",
      "__________________________________________________________________________________________________\n",
      "dropout_1 (Dropout)             (None, 2304)         0           attlayer[0][0]                   \n",
      "__________________________________________________________________________________________________\n",
      "softmax (Dense)                 (None, 1)            2305        dropout_1[0][0]                  \n",
      "==================================================================================================\n",
      "Total params: 23,157,505\n",
      "Trainable params: 23,157,505\n",
      "Non-trainable params: 0\n",
      "__________________________________________________________________________________________________\n",
      "Method:  chain-thaw\n",
      "Metric:  acc\n",
      "Classes: 2\n",
      "Training..\n",
      "WARNING:tensorflow:From /usr/local/lib/python2.7/dist-packages/keras/backend/tensorflow_backend.py:1340: calling reduce_mean (from tensorflow.python.ops.math_ops) with keep_dims is deprecated and will be removed in a future version.\n",
      "Instructions for updating:\n",
      "keep_dims is deprecated, use keepdims instead\n",
      "Finetuning softmax\n",
      "Finetuning embedding\n",
      "Finetuning bi_lstm_0\n",
      "Finetuning bi_lstm_1\n",
      "Finetuning attlayer\n",
      "Finetuning all layers\n",
      "Acc: 0.811641059966\n"
     ]
    }
   ],
   "source": [
    "!python finetune_insults_chain-thaw.py"
   ]
  },
  {
   "cell_type": "code",
   "execution_count": 13,
   "metadata": {
    "colab": {
     "base_uri": "https://localhost:8080/",
     "height": 1873
    },
    "colab_type": "code",
    "id": "Bx41Baq8wpSD",
    "outputId": "33d75a97-756d-4cbe-93e3-2f905846d40c"
   },
   "outputs": [
    {
     "name": "stdout",
     "output_type": "stream",
     "text": [
      "Using TensorFlow backend.\n",
      "RuntimeError: module compiled against API version 0xc but this version of numpy is 0xb\n",
      "RuntimeError: module compiled against API version 0xc but this version of numpy is 0xb\n",
      "2018-10-24 17:43:11.939701: I tensorflow/stream_executor/cuda/cuda_gpu_executor.cc:964] successful NUMA node read from SysFS had negative value (-1), but there must be at least one NUMA node, so returning NUMA node zero\n",
      "2018-10-24 17:43:11.940253: I tensorflow/core/common_runtime/gpu/gpu_device.cc:1432] Found device 0 with properties: \n",
      "name: Tesla K80 major: 3 minor: 7 memoryClockRate(GHz): 0.8235\n",
      "pciBusID: 0000:00:04.0\n",
      "totalMemory: 11.17GiB freeMemory: 11.10GiB\n",
      "2018-10-24 17:43:11.940305: I tensorflow/core/common_runtime/gpu/gpu_device.cc:1511] Adding visible gpu devices: 0\n",
      "2018-10-24 17:43:12.379514: I tensorflow/core/common_runtime/gpu/gpu_device.cc:982] Device interconnect StreamExecutor with strength 1 edge matrix:\n",
      "2018-10-24 17:43:12.379613: I tensorflow/core/common_runtime/gpu/gpu_device.cc:988]      0 \n",
      "2018-10-24 17:43:12.379636: I tensorflow/core/common_runtime/gpu/gpu_device.cc:1001] 0:   N \n",
      "2018-10-24 17:43:12.379976: W tensorflow/core/common_runtime/gpu/gpu_bfc_allocator.cc:42] Overriding allow_growth setting because the TF_FORCE_GPU_ALLOW_GROWTH environment variable is set. Original config value was 0.\n",
      "2018-10-24 17:43:12.380061: I tensorflow/core/common_runtime/gpu/gpu_device.cc:1115] Created TensorFlow device (/device:GPU:0 with 10758 MB memory) -> physical GPU (device: 0, name: Tesla K80, pci bus id: 0000:00:04.0, compute capability: 3.7)\n",
      "WARNING:tensorflow:From /usr/local/lib/python2.7/dist-packages/keras/backend/tensorflow_backend.py:1238: calling reduce_sum (from tensorflow.python.ops.math_ops) with keep_dims is deprecated and will be removed in a future version.\n",
      "Instructions for updating:\n",
      "keep_dims is deprecated, use keepdims instead\n",
      "WARNING:tensorflow:From /usr/local/lib/python2.7/dist-packages/keras/backend/tensorflow_backend.py:1370: calling reduce_all (from tensorflow.python.ops.math_ops) with keep_dims is deprecated and will be removed in a future version.\n",
      "Instructions for updating:\n",
      "keep_dims is deprecated, use keepdims instead\n",
      "WARNING:tensorflow:From /usr/local/lib/python2.7/dist-packages/keras/backend/tensorflow_backend.py:1204: calling reduce_max (from tensorflow.python.ops.math_ops) with keep_dims is deprecated and will be removed in a future version.\n",
      "Instructions for updating:\n",
      "keep_dims is deprecated, use keepdims instead\n",
      "Loading weights for embedding\n",
      "2018-10-24 17:43:19.933499: I tensorflow/core/common_runtime/gpu/gpu_device.cc:1511] Adding visible gpu devices: 0\n",
      "2018-10-24 17:43:19.933600: I tensorflow/core/common_runtime/gpu/gpu_device.cc:982] Device interconnect StreamExecutor with strength 1 edge matrix:\n",
      "2018-10-24 17:43:19.933627: I tensorflow/core/common_runtime/gpu/gpu_device.cc:988]      0 \n",
      "2018-10-24 17:43:19.933652: I tensorflow/core/common_runtime/gpu/gpu_device.cc:1001] 0:   N \n",
      "2018-10-24 17:43:19.934019: I tensorflow/core/common_runtime/gpu/gpu_device.cc:1115] Created TensorFlow device (/job:localhost/replica:0/task:0/device:GPU:0 with 10758 MB memory) -> physical GPU (device: 0, name: Tesla K80, pci bus id: 0000:00:04.0, compute capability: 3.7)\n",
      "Extended vocabulary for embedding layer from 50000 to 50074 tokens.\n",
      "Loading weights for bi_lstm_0\n",
      "Loading weights for bi_lstm_1\n",
      "Loading weights for attlayer\n",
      "Ignoring weights for softmax\n",
      "__________________________________________________________________________________________________\n",
      "Layer (type)                    Output Shape         Param #     Connected to                     \n",
      "==================================================================================================\n",
      "input_1 (InputLayer)            (None, 10)           0                                            \n",
      "__________________________________________________________________________________________________\n",
      "embedding (Embedding)           (None, 10, 256)      12818944    input_1[0][0]                    \n",
      "__________________________________________________________________________________________________\n",
      "activation_1 (Activation)       (None, 10, 256)      0           embedding[0][0]                  \n",
      "__________________________________________________________________________________________________\n",
      "embed_drop (SpatialDropout1D)   (None, 10, 256)      0           activation_1[0][0]               \n",
      "__________________________________________________________________________________________________\n",
      "bi_lstm_0 (Bidirectional)       (None, 10, 1024)     3149824     embed_drop[0][0]                 \n",
      "__________________________________________________________________________________________________\n",
      "bi_lstm_1 (Bidirectional)       (None, 10, 1024)     6295552     bi_lstm_0[0][0]                  \n",
      "__________________________________________________________________________________________________\n",
      "concatenate_1 (Concatenate)     (None, 10, 2304)     0           bi_lstm_1[0][0]                  \n",
      "                                                                 bi_lstm_0[0][0]                  \n",
      "                                                                 embed_drop[0][0]                 \n",
      "__________________________________________________________________________________________________\n",
      "attlayer (AttentionWeightedAver (None, 2304)         2304        concatenate_1[0][0]              \n",
      "__________________________________________________________________________________________________\n",
      "dropout_1 (Dropout)             (None, 2304)         0           attlayer[0][0]                   \n",
      "__________________________________________________________________________________________________\n",
      "softmax (Dense)                 (None, 1)            2305        dropout_1[0][0]                  \n",
      "==================================================================================================\n",
      "Total params: 22,268,929\n",
      "Trainable params: 22,268,929\n",
      "Non-trainable params: 0\n",
      "__________________________________________________________________________________________________\n",
      "WARNING:tensorflow:From /usr/local/lib/python2.7/dist-packages/keras/backend/tensorflow_backend.py:1340: calling reduce_mean (from tensorflow.python.ops.math_ops) with keep_dims is deprecated and will be removed in a future version.\n",
      "Instructions for updating:\n",
      "keep_dims is deprecated, use keepdims instead\n",
      "Method:  last\n",
      "Classes: 3\n",
      "Iteration number 1/3\n",
      "Training..\n",
      "/content/DeepMoji/deepmoji/class_avg_finetuning.py:224: UserWarning: Update your `fit_generator` call to the Keras 2 API: `fit_generator(<generator..., verbose=0, validation_data=(array([[ ..., steps_per_epoch=20, epochs=1000, callbacks=[<keras.ca..., max_queue_size=2)`\n",
      "  callbacks=callbacks, verbose=0)\n",
      "Epoch 00001: val_loss improved from inf to 0.40105, saving model to /tmp/tmpYefESM/deepmoji-checkpoint-477c189f-d084-4744-b771-60bdfad77648.hdf5\n",
      "Epoch 00002: val_loss improved from 0.40105 to 0.30794, saving model to /tmp/tmpYefESM/deepmoji-checkpoint-477c189f-d084-4744-b771-60bdfad77648.hdf5\n",
      "Epoch 00003: val_loss did not improve\n",
      "Epoch 00004: val_loss did not improve\n",
      "Epoch 00005: val_loss did not improve\n",
      "Epoch 00006: val_loss did not improve\n",
      "Epoch 00007: val_loss did not improve\n",
      "Epoch 00007: early stopping\n",
      "/usr/local/lib/python2.7/dist-packages/sklearn/metrics/classification.py:1135: UndefinedMetricWarning: F-score is ill-defined and being set to 0.0 due to no predicted samples.\n",
      "  'precision', 'predicted', average, warn_for)\n",
      "f1_test: 0.173618940248\n",
      "best_t:  0.03\n",
      "Iteration number 2/3\n",
      "Training..\n",
      "Epoch 00001: val_loss improved from inf to 0.56642, saving model to /tmp/tmpYefESM/deepmoji-checkpoint-477c189f-d084-4744-b771-60bdfad77648.hdf5\n",
      "Epoch 00002: val_loss did not improve\n",
      "Epoch 00003: val_loss did not improve\n",
      "Epoch 00004: val_loss did not improve\n",
      "Epoch 00005: val_loss did not improve\n",
      "Epoch 00006: val_loss did not improve\n",
      "Epoch 00006: early stopping\n",
      "f1_test: 0.282105263158\n",
      "best_t:  0.28\n",
      "Iteration number 3/3\n",
      "Training..\n",
      "Epoch 00001: val_loss improved from inf to 0.45823, saving model to /tmp/tmpYefESM/deepmoji-checkpoint-477c189f-d084-4744-b771-60bdfad77648.hdf5\n",
      "Epoch 00002: val_loss improved from 0.45823 to 0.27048, saving model to /tmp/tmpYefESM/deepmoji-checkpoint-477c189f-d084-4744-b771-60bdfad77648.hdf5\n",
      "Epoch 00003: val_loss did not improve\n",
      "Epoch 00004: val_loss did not improve\n",
      "Epoch 00005: val_loss did not improve\n",
      "Epoch 00006: val_loss did not improve\n",
      "Epoch 00007: val_loss did not improve\n",
      "Epoch 00007: early stopping\n",
      "f1_test: 0.478431372549\n",
      "best_t:  0.2\n",
      "F1: 0.311385191985\n"
     ]
    }
   ],
   "source": [
    "!python finetune_semeval_class-avg_f1.py"
   ]
  },
  {
   "cell_type": "code",
   "execution_count": 16,
   "metadata": {
    "colab": {
     "base_uri": "https://localhost:8080/",
     "height": 1873
    },
    "colab_type": "code",
    "id": "hQ_6BoDEMR8Z",
    "outputId": "84a4ff4d-56f9-4b77-ddb0-e941ba726bfa"
   },
   "outputs": [
    {
     "name": "stdout",
     "output_type": "stream",
     "text": [
      "Using TensorFlow backend.\n",
      "RuntimeError: module compiled against API version 0xc but this version of numpy is 0xb\n",
      "RuntimeError: module compiled against API version 0xc but this version of numpy is 0xb\n",
      "2018-10-24 17:48:43.450207: I tensorflow/stream_executor/cuda/cuda_gpu_executor.cc:964] successful NUMA node read from SysFS had negative value (-1), but there must be at least one NUMA node, so returning NUMA node zero\n",
      "2018-10-24 17:48:43.450725: I tensorflow/core/common_runtime/gpu/gpu_device.cc:1432] Found device 0 with properties: \n",
      "name: Tesla K80 major: 3 minor: 7 memoryClockRate(GHz): 0.8235\n",
      "pciBusID: 0000:00:04.0\n",
      "totalMemory: 11.17GiB freeMemory: 11.10GiB\n",
      "2018-10-24 17:48:43.450778: I tensorflow/core/common_runtime/gpu/gpu_device.cc:1511] Adding visible gpu devices: 0\n",
      "2018-10-24 17:48:43.886367: I tensorflow/core/common_runtime/gpu/gpu_device.cc:982] Device interconnect StreamExecutor with strength 1 edge matrix:\n",
      "2018-10-24 17:48:43.886452: I tensorflow/core/common_runtime/gpu/gpu_device.cc:988]      0 \n",
      "2018-10-24 17:48:43.886482: I tensorflow/core/common_runtime/gpu/gpu_device.cc:1001] 0:   N \n",
      "2018-10-24 17:48:43.886795: W tensorflow/core/common_runtime/gpu/gpu_bfc_allocator.cc:42] Overriding allow_growth setting because the TF_FORCE_GPU_ALLOW_GROWTH environment variable is set. Original config value was 0.\n",
      "2018-10-24 17:48:43.886883: I tensorflow/core/common_runtime/gpu/gpu_device.cc:1115] Created TensorFlow device (/device:GPU:0 with 10758 MB memory) -> physical GPU (device: 0, name: Tesla K80, pci bus id: 0000:00:04.0, compute capability: 3.7)\n",
      "WARNING:tensorflow:From /usr/local/lib/python2.7/dist-packages/keras/backend/tensorflow_backend.py:1238: calling reduce_sum (from tensorflow.python.ops.math_ops) with keep_dims is deprecated and will be removed in a future version.\n",
      "Instructions for updating:\n",
      "keep_dims is deprecated, use keepdims instead\n",
      "WARNING:tensorflow:From /usr/local/lib/python2.7/dist-packages/keras/backend/tensorflow_backend.py:1370: calling reduce_all (from tensorflow.python.ops.math_ops) with keep_dims is deprecated and will be removed in a future version.\n",
      "Instructions for updating:\n",
      "keep_dims is deprecated, use keepdims instead\n",
      "WARNING:tensorflow:From /usr/local/lib/python2.7/dist-packages/keras/backend/tensorflow_backend.py:1204: calling reduce_max (from tensorflow.python.ops.math_ops) with keep_dims is deprecated and will be removed in a future version.\n",
      "Instructions for updating:\n",
      "keep_dims is deprecated, use keepdims instead\n",
      "Loading weights for embedding\n",
      "2018-10-24 17:48:51.194972: I tensorflow/core/common_runtime/gpu/gpu_device.cc:1511] Adding visible gpu devices: 0\n",
      "2018-10-24 17:48:51.195080: I tensorflow/core/common_runtime/gpu/gpu_device.cc:982] Device interconnect StreamExecutor with strength 1 edge matrix:\n",
      "2018-10-24 17:48:51.195107: I tensorflow/core/common_runtime/gpu/gpu_device.cc:988]      0 \n",
      "2018-10-24 17:48:51.195128: I tensorflow/core/common_runtime/gpu/gpu_device.cc:1001] 0:   N \n",
      "2018-10-24 17:48:51.195462: I tensorflow/core/common_runtime/gpu/gpu_device.cc:1115] Created TensorFlow device (/job:localhost/replica:0/task:0/device:GPU:0 with 10758 MB memory) -> physical GPU (device: 0, name: Tesla K80, pci bus id: 0000:00:04.0, compute capability: 3.7)\n",
      "Extended vocabulary for embedding layer from 50000 to 50074 tokens.\n",
      "Loading weights for bi_lstm_0\n",
      "Loading weights for bi_lstm_1\n",
      "Loading weights for attlayer\n",
      "Ignoring weights for softmax\n",
      "__________________________________________________________________________________________________\n",
      "Layer (type)                    Output Shape         Param #     Connected to                     \n",
      "==================================================================================================\n",
      "input_1 (InputLayer)            (None, 10)           0                                            \n",
      "__________________________________________________________________________________________________\n",
      "embedding (Embedding)           (None, 10, 256)      12818944    input_1[0][0]                    \n",
      "__________________________________________________________________________________________________\n",
      "activation_1 (Activation)       (None, 10, 256)      0           embedding[0][0]                  \n",
      "__________________________________________________________________________________________________\n",
      "embed_drop (SpatialDropout1D)   (None, 10, 256)      0           activation_1[0][0]               \n",
      "__________________________________________________________________________________________________\n",
      "bi_lstm_0 (Bidirectional)       (None, 10, 1024)     3149824     embed_drop[0][0]                 \n",
      "__________________________________________________________________________________________________\n",
      "bi_lstm_1 (Bidirectional)       (None, 10, 1024)     6295552     bi_lstm_0[0][0]                  \n",
      "__________________________________________________________________________________________________\n",
      "concatenate_1 (Concatenate)     (None, 10, 2304)     0           bi_lstm_1[0][0]                  \n",
      "                                                                 bi_lstm_0[0][0]                  \n",
      "                                                                 embed_drop[0][0]                 \n",
      "__________________________________________________________________________________________________\n",
      "attlayer (AttentionWeightedAver (None, 2304)         2304        concatenate_1[0][0]              \n",
      "__________________________________________________________________________________________________\n",
      "dropout_1 (Dropout)             (None, 2304)         0           attlayer[0][0]                   \n",
      "__________________________________________________________________________________________________\n",
      "softmax (Dense)                 (None, 1)            2305        dropout_1[0][0]                  \n",
      "==================================================================================================\n",
      "Total params: 22,268,929\n",
      "Trainable params: 22,268,929\n",
      "Non-trainable params: 0\n",
      "__________________________________________________________________________________________________\n",
      "WARNING:tensorflow:From /usr/local/lib/python2.7/dist-packages/keras/backend/tensorflow_backend.py:1340: calling reduce_mean (from tensorflow.python.ops.math_ops) with keep_dims is deprecated and will be removed in a future version.\n",
      "Instructions for updating:\n",
      "keep_dims is deprecated, use keepdims instead\n",
      "Method:  last\n",
      "Classes: 3\n",
      "Iteration number 1/3\n",
      "Training..\n",
      "/content/DeepMoji/deepmoji/class_avg_finetuning.py:224: UserWarning: Update your `fit_generator` call to the Keras 2 API: `fit_generator(<generator..., verbose=0, validation_data=(array([[ ..., steps_per_epoch=20, epochs=1000, callbacks=[<keras.ca..., max_queue_size=2)`\n",
      "  callbacks=callbacks, verbose=0)\n",
      "Epoch 00001: val_loss improved from inf to 0.39272, saving model to /tmp/tmpH0kWwK/deepmoji-checkpoint-3c7a411e-db7e-4ad1-9d54-91db29070595.hdf5\n",
      "Epoch 00002: val_loss improved from 0.39272 to 0.32857, saving model to /tmp/tmpH0kWwK/deepmoji-checkpoint-3c7a411e-db7e-4ad1-9d54-91db29070595.hdf5\n",
      "Epoch 00003: val_loss did not improve\n",
      "Epoch 00004: val_loss did not improve\n",
      "Epoch 00005: val_loss did not improve\n",
      "Epoch 00006: val_loss did not improve\n",
      "Epoch 00007: val_loss did not improve\n",
      "Epoch 00007: early stopping\n",
      "/usr/local/lib/python2.7/dist-packages/sklearn/metrics/classification.py:1135: UndefinedMetricWarning: F-score is ill-defined and being set to 0.0 due to no predicted samples.\n",
      "  'precision', 'predicted', average, warn_for)\n",
      "f1_test: 0.171552660152\n",
      "best_t:  0.03\n",
      "Iteration number 2/3\n",
      "Training..\n",
      "Epoch 00001: val_loss improved from inf to 0.56237, saving model to /tmp/tmpH0kWwK/deepmoji-checkpoint-3c7a411e-db7e-4ad1-9d54-91db29070595.hdf5\n",
      "Epoch 00002: val_loss did not improve\n",
      "Epoch 00003: val_loss did not improve\n",
      "Epoch 00004: val_loss did not improve\n",
      "Epoch 00005: val_loss did not improve\n",
      "Epoch 00006: val_loss did not improve\n",
      "Epoch 00006: early stopping\n",
      "f1_test: 0.289926289926\n",
      "best_t:  0.27\n",
      "Iteration number 3/3\n",
      "Training..\n",
      "Epoch 00001: val_loss improved from inf to 0.45222, saving model to /tmp/tmpH0kWwK/deepmoji-checkpoint-3c7a411e-db7e-4ad1-9d54-91db29070595.hdf5\n",
      "Epoch 00002: val_loss improved from 0.45222 to 0.21555, saving model to /tmp/tmpH0kWwK/deepmoji-checkpoint-3c7a411e-db7e-4ad1-9d54-91db29070595.hdf5\n",
      "Epoch 00003: val_loss did not improve\n",
      "Epoch 00004: val_loss did not improve\n",
      "Epoch 00005: val_loss did not improve\n",
      "Epoch 00006: val_loss did not improve\n",
      "Epoch 00007: val_loss did not improve\n",
      "Epoch 00007: early stopping\n",
      "f1_test: 0.510460251046\n",
      "best_t:  0.23\n",
      "F1: 0.323979733708\n"
     ]
    }
   ],
   "source": [
    "!python finetune_semeval_class-avg_f1.py"
   ]
  }
 ],
 "metadata": {
  "accelerator": "GPU",
  "colab": {
   "collapsed_sections": [],
   "name": "NLP DeepMoji Py2.ipynb",
   "provenance": [],
   "version": "0.3.2"
  },
  "kernelspec": {
   "display_name": "Python 2",
   "language": "python",
   "name": "python2"
  },
  "language_info": {
   "codemirror_mode": {
    "name": "ipython",
    "version": 2
   },
   "file_extension": ".py",
   "mimetype": "text/x-python",
   "name": "python",
   "nbconvert_exporter": "python",
   "pygments_lexer": "ipython2",
   "version": "2.7.15"
  }
 },
 "nbformat": 4,
 "nbformat_minor": 1
}
