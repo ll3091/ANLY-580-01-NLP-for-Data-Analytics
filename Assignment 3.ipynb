{
 "cells": [
  {
   "cell_type": "markdown",
   "metadata": {},
   "source": [
    "# NLTK"
   ]
  },
  {
   "cell_type": "markdown",
   "metadata": {},
   "source": [
    "Chapter 3 exercises 9, 43"
   ]
  },
  {
   "cell_type": "code",
   "execution_count": 1,
   "metadata": {},
   "outputs": [
    {
     "name": "stdout",
     "output_type": "stream",
     "text": [
      "*** Introductory Examples for the NLTK Book ***\n",
      "Loading text1, ..., text9 and sent1, ..., sent9\n",
      "Type the name of the text or sentence to view it.\n",
      "Type: 'texts()' or 'sents()' to list the materials.\n",
      "text1: Moby Dick by Herman Melville 1851\n",
      "text2: Sense and Sensibility by Jane Austen 1811\n",
      "text3: The Book of Genesis\n",
      "text4: Inaugural Address Corpus\n",
      "text5: Chat Corpus\n",
      "text6: Monty Python and the Holy Grail\n",
      "text7: Wall Street Journal\n",
      "text8: Personals Corpus\n",
      "text9: The Man Who Was Thursday by G . K . Chesterton 1908\n"
     ]
    }
   ],
   "source": [
    "# import packages for assignment\n",
    "import nltk, re, pprint, unicodedata\n",
    "from urllib import request\n",
    "from nltk import word_tokenize\n",
    "from nltk.book import *\n",
    "from nltk.metrics.spearman import *\n",
    "from nltk.corpus import udhr "
   ]
  },
  {
   "cell_type": "markdown",
   "metadata": {},
   "source": [
    "## 9."
   ]
  },
  {
   "cell_type": "code",
   "execution_count": 2,
   "metadata": {
    "collapsed": true
   },
   "outputs": [],
   "source": [
    "# save some text into file corpus.txt\n",
    "with open('corpus.txt', 'w') as output_txt:\n",
    "    output_txt.write('In this book we view a text as a list of words. A \"raw '\\\n",
    "                     'text\" is a potentially long string containing words and '\\\n",
    "                     'whitespace formatting, and is how we typically store and '\\\n",
    "                     'visualize a text... (from https://www.nltk.org/book/ch03.html)')\n",
    "    output_txt.write('Jack Johnson and Amy Adams-Smith purchased $5,000 of stocks '\\\n",
    "                     'from various companies like Apple, Dell, Google, HP, and '\\\n",
    "                     'Samsung several months ago on 4/12/18. Since then they have '\\\n",
    "                     'lost a total of $298.12 on their investments.')"
   ]
  },
  {
   "cell_type": "code",
   "execution_count": 3,
   "metadata": {
    "collapsed": true
   },
   "outputs": [],
   "source": [
    "# function that reads from file f, and returns \n",
    "# a string containing the text of the file\n",
    "def load(f):\n",
    "    with open(f, 'r') as input_txt:\n",
    "        return input_txt.read()"
   ]
  },
  {
   "cell_type": "code",
   "execution_count": 4,
   "metadata": {
    "collapsed": true
   },
   "outputs": [],
   "source": [
    "# read in text\n",
    "text = load('corpus.txt')"
   ]
  },
  {
   "cell_type": "markdown",
   "metadata": {},
   "source": [
    "### a."
   ]
  },
  {
   "cell_type": "code",
   "execution_count": 5,
   "metadata": {
    "scrolled": true
   },
   "outputs": [
    {
     "data": {
      "text/plain": [
       "['.',\n",
       " '\"',\n",
       " '\"',\n",
       " ',',\n",
       " '...',\n",
       " '(',\n",
       " ':',\n",
       " '/',\n",
       " '/',\n",
       " '.',\n",
       " '.',\n",
       " '/',\n",
       " '/',\n",
       " '.',\n",
       " ')',\n",
       " '-',\n",
       " ',',\n",
       " ',',\n",
       " ',',\n",
       " ',',\n",
       " ',',\n",
       " '/',\n",
       " '/',\n",
       " '.',\n",
       " '.',\n",
       " '.']"
      ]
     },
     "execution_count": 5,
     "metadata": {},
     "output_type": "execute_result"
    }
   ],
   "source": [
    "# use nltk.regexp_tokenize() to create tokenizer that tokenizes \n",
    "# various kinds of punctuation in text, with one multi-line \n",
    "# regular expression, with inline comments, using verbose flag (?x)\n",
    "pattern = r'''(?x)    # set flag to allow verbose regexps\n",
    "        \\.\\.\\.        # ellipsis\n",
    "      | [.?!]         # terminal points\n",
    "      | [,;:]         # pausing points\n",
    "      | [-—]          # dashes\n",
    "      | [][(){}'\"<>]  # wrappers\n",
    "      | [/]           # others\n",
    "    '''\n",
    "nltk.regexp_tokenize(text, pattern)"
   ]
  },
  {
   "cell_type": "markdown",
   "metadata": {},
   "source": [
    "### b."
   ]
  },
  {
   "cell_type": "code",
   "execution_count": 6,
   "metadata": {},
   "outputs": [
    {
     "data": {
      "text/plain": [
       "['In',\n",
       " 'Jack Johnson',\n",
       " 'Amy Adams-Smith',\n",
       " '$5,000',\n",
       " 'Apple',\n",
       " 'Dell',\n",
       " 'Google',\n",
       " 'HP',\n",
       " 'Samsung',\n",
       " '4/12/18',\n",
       " 'Since',\n",
       " '$298.12']"
      ]
     },
     "execution_count": 6,
     "metadata": {},
     "output_type": "execute_result"
    }
   ],
   "source": [
    "# use nltk.regexp_tokenize() to create a tokenizer that tokenizes\n",
    "# the following kinds of expression: \n",
    "# monetary amounts; dates; names of people and organizations\n",
    "pattern = r'''(?x)                   # set flag to allow verbose regexps\n",
    "        \\$\\d+(?:[,\\.]\\d+)?           # monetary amounts\n",
    "      | \\d+[-/]\\d+[-/]\\d+            # dates\n",
    "      | [A-Z]+\\w+(?:[-\\ ][A-Z]+\\w+)* # names (includes capitalized words)\n",
    "    '''\n",
    "nltk.regexp_tokenize(text, pattern)"
   ]
  },
  {
   "cell_type": "markdown",
   "metadata": {},
   "source": [
    "### 43."
   ]
  },
  {
   "cell_type": "code",
   "execution_count": 7,
   "metadata": {},
   "outputs": [
    {
     "data": {
      "image/png": "[encoded data removed]",
      "text/plain": [
       "<matplotlib.figure.Figure at 0x27ed6f40c50>"
      ]
     },
     "metadata": {},
     "output_type": "display_data"
    }
   ],
   "source": [
    "# sample English text\n",
    "raw_en = udhr.raw('English-Latin1')\n",
    "\n",
    "# remove any accents\n",
    "raw_en = unicodedata.normalize('NFKD', raw_en)\n",
    "raw_en = raw_en.encode('ASCII', 'ignore').decode('utf-8-sig')\n",
    "\n",
    "# tokenize and separate out characters\n",
    "text_en = nltk.Text(word_tokenize(raw_en))\n",
    "text_en = [ch.lower() for ch in ''.join(text_en) if ch.isalpha()]\n",
    "\n",
    "# build and plot frequency distribution of letters\n",
    "fdist_en = FreqDist(text_en)\n",
    "fdist_en.plot()"
   ]
  },
  {
   "cell_type": "code",
   "execution_count": 8,
   "metadata": {},
   "outputs": [
    {
     "data": {
      "image/png": "[encoded data removed]",
      "text/plain": [
       "<matplotlib.figure.Figure at 0x27eda2de198>"
      ]
     },
     "metadata": {},
     "output_type": "display_data"
    }
   ],
   "source": [
    "# sample French text\n",
    "raw_fr = udhr.raw('French_Francais-Latin1')\n",
    "\n",
    "# remove any accents\n",
    "raw_fr = unicodedata.normalize('NFKD', raw_fr)\n",
    "raw_fr = raw_fr.encode('ASCII', 'ignore').decode('utf-8-sig')\n",
    "\n",
    "# tokenize and separate out characters\n",
    "text_fr = nltk.Text(word_tokenize(raw_fr))\n",
    "text_fr = [ch.lower() for ch in ''.join(text_fr) if ch.isalpha()]\n",
    "\n",
    "# build and plot frequency distribution of letters\n",
    "fdist_fr = FreqDist(text_fr)\n",
    "fdist_fr.plot()"
   ]
  },
  {
   "cell_type": "code",
   "execution_count": 9,
   "metadata": {},
   "outputs": [
    {
     "data": {
      "image/png": "[encoded data removed]",
      "text/plain": [
       "<matplotlib.figure.Figure at 0x27edf047eb8>"
      ]
     },
     "metadata": {},
     "output_type": "display_data"
    }
   ],
   "source": [
    "# sample Spanish text\n",
    "raw_sp = udhr.raw('Spanish_Espanol-Latin1')\n",
    "\n",
    "# remove any accents\n",
    "raw_sp = unicodedata.normalize('NFKD', raw_sp)\n",
    "raw_sp = raw_sp.encode('ASCII', 'ignore').decode('utf-8-sig')\n",
    "\n",
    "# tokenize and separate out characters\n",
    "text_sp = nltk.Text(word_tokenize(raw_sp))\n",
    "text_sp = [ch.lower() for ch in ''.join(text_sp) if ch.isalpha()]\n",
    "\n",
    "# build and plot frequency distribution of letters\n",
    "fdist_sp = FreqDist(text_sp)\n",
    "fdist_sp.plot()"
   ]
  },
  {
   "cell_type": "code",
   "execution_count": 10,
   "metadata": {},
   "outputs": [
    {
     "data": {
      "image/png": "[encoded data removed]",
      "text/plain": [
       "<matplotlib.figure.Figure at 0x27edf275ef0>"
      ]
     },
     "metadata": {},
     "output_type": "display_data"
    }
   ],
   "source": [
    "# The Project Gutenberg EBook of Maurin des Maures, by Jean Aicard\n",
    "# 'unknown' text - French\n",
    "url = 'http://www.gutenberg.org/files/56393/56393-0.txt'\n",
    "response = request.urlopen(url)\n",
    "raw_x = response.read().decode('utf-8-sig')\n",
    "\n",
    "# remove any accents\n",
    "raw_x = unicodedata.normalize('NFKD', raw_x)\n",
    "raw_x = raw_x.encode('ASCII', 'ignore').decode('utf-8-sig')\n",
    "\n",
    "# tokenize and separate out characters\n",
    "text_x = nltk.Text(word_tokenize(raw_x))\n",
    "text_x = [ch.lower() for ch in ''.join(text_x) if ch.isalpha()]\n",
    "\n",
    "# build and plot frequency distribution of letters\n",
    "fdist_x = FreqDist(text_x)\n",
    "fdist_x.plot()"
   ]
  },
  {
   "cell_type": "code",
   "execution_count": 11,
   "metadata": {},
   "outputs": [
    {
     "name": "stdout",
     "output_type": "stream",
     "text": [
      "0.9\n",
      "1.0\n",
      "0.9\n"
     ]
    }
   ],
   "source": [
    "# extract letter list of decreasing freqency\n",
    "en,_ = zip(*fdist_en.most_common())\n",
    "fr,_ = zip(*fdist_fr.most_common())\n",
    "sp,_ = zip(*fdist_sp.most_common())\n",
    "x,_ = zip(*fdist_x.most_common())\n",
    "\n",
    "# apply Spearman correlation coefficent to ranked lists\n",
    "print('%0.1f' % spearman_correlation(ranks_from_sequence(x), \n",
    "                                     ranks_from_sequence(en)))\n",
    "print('%0.1f' % spearman_correlation(ranks_from_sequence(x), \n",
    "                                     ranks_from_sequence(fr)))\n",
    "print('%0.1f' % spearman_correlation(ranks_from_sequence(x), \n",
    "                                     ranks_from_sequence(sp)))"
   ]
  },
  {
   "cell_type": "markdown",
   "metadata": {},
   "source": [
    "The results above indicate that there's a stronger correlation between the unknown text with the French text than with the English or Spanish texts. Therefore, this method correctly identifies the language of the unknown text."
   ]
  }
 ],
 "metadata": {
  "kernelspec": {
   "display_name": "Python 3",
   "language": "python",
   "name": "python3"
  },
  "language_info": {
   "codemirror_mode": {
    "name": "ipython",
    "version": 3
   },
   "file_extension": ".py",
   "mimetype": "text/x-python",
   "name": "python",
   "nbconvert_exporter": "python",
   "pygments_lexer": "ipython3",
   "version": "3.6.1"
  }
 },
 "nbformat": 4,
 "nbformat_minor": 2
}
